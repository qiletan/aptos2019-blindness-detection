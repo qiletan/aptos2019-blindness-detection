{
 "cells": [
  {
   "cell_type": "code",
   "execution_count": 7,
   "metadata": {},
   "outputs": [],
   "source": [
    "from pathlib import Path\n",
    "import pandas as pd\n",
    "import matplotlib.pyplot as plt\n",
    "from PIL import Image\n",
    "from tqdm import tqdm_notebook as tqdm\n"
   ]
  },
  {
   "cell_type": "code",
   "execution_count": 10,
   "metadata": {},
   "outputs": [],
   "source": [
    "# modified from https://www.kaggle.com/tanlikesmath/diabetic-retinopathy-resnet50-binary-cropped\n",
    "import cv2\n",
    "def resize_images(location, name, extension, resize_location, desired_size = 1024):\n",
    "    img = cv2.imread(f\"{location}/{name}.{extension}\")\n",
    "    \n",
    "    img = cv2.copyMakeBorder(img,10,10,10,10,cv2.BORDER_CONSTANT,value=[0,0,0])\n",
    "    gray = cv2.cvtColor(img, cv2.COLOR_BGR2GRAY)\n",
    "    ret,gray = cv2.threshold(gray,10,255,cv2.THRESH_BINARY)\n",
    "    \n",
    "    contours,hierarchy = cv2.findContours(gray,\n",
    "                                          cv2.RETR_EXTERNAL,\n",
    "                                          cv2.CHAIN_APPROX_SIMPLE)\n",
    "    contours = max(contours, key=cv2.contourArea)\n",
    "    x,y,w,h = cv2.boundingRect(contours)\n",
    "\n",
    "    if w>200 and h>200:\n",
    "        new_img = img[y:y+h,x:x+w]\n",
    "        height, width, _= new_img.shape\n",
    "\n",
    "\n",
    "        new_img = cv2.resize(new_img,(desired_size,desired_size), \n",
    "                                 interpolation = cv2.INTER_CUBIC)\n",
    "            \n",
    "        cv2.imwrite(f'{resize_location}/{name}.jpg', new_img)\n",
    "    else:\n",
    "        print(f'No bounding for {name}')\n",
    "        img = cv2.resize(img,(desired_size,desired_size), \n",
    "                                 interpolation = cv2.INTER_CUBIC)\n",
    "        cv2.imwrite(f'{resize_location}/{name}.jpg', img)"
   ]
  },
  {
   "cell_type": "code",
   "execution_count": 11,
   "metadata": {},
   "outputs": [
    {
     "data": {
      "text/html": [
       "<div>\n",
       "<style scoped>\n",
       "    .dataframe tbody tr th:only-of-type {\n",
       "        vertical-align: middle;\n",
       "    }\n",
       "\n",
       "    .dataframe tbody tr th {\n",
       "        vertical-align: top;\n",
       "    }\n",
       "\n",
       "    .dataframe thead th {\n",
       "        text-align: right;\n",
       "    }\n",
       "</style>\n",
       "<table border=\"1\" class=\"dataframe\">\n",
       "  <thead>\n",
       "    <tr style=\"text-align: right;\">\n",
       "      <th></th>\n",
       "      <th>id_code</th>\n",
       "      <th>diagnosis</th>\n",
       "    </tr>\n",
       "  </thead>\n",
       "  <tbody>\n",
       "    <tr>\n",
       "      <th>0</th>\n",
       "      <td>000c1434d8d7</td>\n",
       "      <td>2</td>\n",
       "    </tr>\n",
       "    <tr>\n",
       "      <th>1</th>\n",
       "      <td>001639a390f0</td>\n",
       "      <td>4</td>\n",
       "    </tr>\n",
       "    <tr>\n",
       "      <th>2</th>\n",
       "      <td>0024cdab0c1e</td>\n",
       "      <td>1</td>\n",
       "    </tr>\n",
       "    <tr>\n",
       "      <th>3</th>\n",
       "      <td>002c21358ce6</td>\n",
       "      <td>0</td>\n",
       "    </tr>\n",
       "    <tr>\n",
       "      <th>4</th>\n",
       "      <td>005b95c28852</td>\n",
       "      <td>0</td>\n",
       "    </tr>\n",
       "  </tbody>\n",
       "</table>\n",
       "</div>"
      ],
      "text/plain": [
       "        id_code  diagnosis\n",
       "0  000c1434d8d7          2\n",
       "1  001639a390f0          4\n",
       "2  0024cdab0c1e          1\n",
       "3  002c21358ce6          0\n",
       "4  005b95c28852          0"
      ]
     },
     "execution_count": 11,
     "metadata": {},
     "output_type": "execute_result"
    }
   ],
   "source": [
    "path = Path(\"input\")\n",
    "train_19_df = pd.read_csv(path/'trainLabels19.csv')\n",
    "test_19_df = pd.read_csv(path/'testImages19.csv')\n",
    "train_15_df = pd.read_csv(path/'trainLabels15.csv')\n",
    "test_15_df = pd.read_csv(path/'testLabels15.csv')\n",
    "\n",
    "train_19_df.head() "
   ]
  },
  {
   "cell_type": "code",
   "execution_count": 12,
   "metadata": {},
   "outputs": [],
   "source": [
    "test_15_df.rename(index=str, columns={\"image\": \"id_code\", \"level\":\"diagnosis\"}, inplace=True)\n",
    "train_15_df.rename(index=str, columns={\"image\": \"id_code\", \"level\":\"diagnosis\"}, inplace=True)\n",
    "\n",
    "data_df = train_19_df.append([test_15_df.drop('Usage', axis=1), train_15_df], ignore_index = True)"
   ]
  },
  {
   "cell_type": "code",
   "execution_count": 13,
   "metadata": {},
   "outputs": [
    {
     "data": {
      "text/plain": [
       "(92364, 2)"
      ]
     },
     "execution_count": 13,
     "metadata": {},
     "output_type": "execute_result"
    }
   ],
   "source": [
    "data_df.shape"
   ]
  },
  {
   "cell_type": "code",
   "execution_count": 14,
   "metadata": {},
   "outputs": [
    {
     "data": {
      "application/vnd.jupyter.widget-view+json": {
       "model_id": "fa00fc5400ec454ba87505e694762870",
       "version_major": 2,
       "version_minor": 0
      },
      "text/plain": [
       "HBox(children=(IntProgress(value=0, max=92364), HTML(value='')))"
      ]
     },
     "metadata": {},
     "output_type": "display_data"
    },
    {
     "name": "stdout",
     "output_type": "stream",
     "text": [
      "No bounding for 3517_left\n",
      "No bounding for 16519_left\n",
      "No bounding for 19150_right\n",
      "No bounding for 25313_right\n",
      "No bounding for 27096_right\n",
      "No bounding for 28544_left\n",
      "No bounding for 35762_left\n",
      "No bounding for 38549_left\n",
      "No bounding for 1986_left\n",
      "No bounding for 3829_left\n",
      "No bounding for 32253_right\n",
      "No bounding for 34689_left\n",
      "No bounding for 43457_left\n"
     ]
    }
   ],
   "source": [
    "for index, row in tqdm(data_df.iterrows(), total=data_df.shape[0]):\n",
    "    resize_images('input/resized', row['id_code'], 'jpg', 'input/resized_256', desired_size = 256)"
   ]
  },
  {
   "cell_type": "code",
   "execution_count": null,
   "metadata": {},
   "outputs": [],
   "source": []
  }
 ],
 "metadata": {
  "kernelspec": {
   "display_name": "Python 3",
   "language": "python",
   "name": "python3"
  },
  "language_info": {
   "codemirror_mode": {
    "name": "ipython",
    "version": 3
   },
   "file_extension": ".py",
   "mimetype": "text/x-python",
   "name": "python",
   "nbconvert_exporter": "python",
   "pygments_lexer": "ipython3",
   "version": "3.7.3"
  },
  "toc": {
   "base_numbering": 1,
   "nav_menu": {},
   "number_sections": true,
   "sideBar": true,
   "skip_h1_title": false,
   "title_cell": "Table of Contents",
   "title_sidebar": "Contents",
   "toc_cell": false,
   "toc_position": {},
   "toc_section_display": true,
   "toc_window_display": false
  }
 },
 "nbformat": 4,
 "nbformat_minor": 2
}
